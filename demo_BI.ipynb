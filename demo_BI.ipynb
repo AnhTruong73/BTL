{
 "cells": [
  {
   "cell_type": "markdown",
   "id": "f21d5f2f",
   "metadata": {},
   "source": [
    "# Đọc dữ liệu"
   ]
  },
  {
   "cell_type": "code",
   "execution_count": 1,
   "id": "55c13fde",
   "metadata": {},
   "outputs": [],
   "source": [
    "import pandas as pd\n",
    "import numpy as np\n",
    "from sklearn.metrics import accuracy_score"
   ]
  },
  {
   "cell_type": "code",
   "execution_count": 2,
   "id": "0fa7bf39",
   "metadata": {},
   "outputs": [
    {
     "data": {
      "text/html": [
       "<div>\n",
       "<style scoped>\n",
       "    .dataframe tbody tr th:only-of-type {\n",
       "        vertical-align: middle;\n",
       "    }\n",
       "\n",
       "    .dataframe tbody tr th {\n",
       "        vertical-align: top;\n",
       "    }\n",
       "\n",
       "    .dataframe thead th {\n",
       "        text-align: right;\n",
       "    }\n",
       "</style>\n",
       "<table border=\"1\" class=\"dataframe\">\n",
       "  <thead>\n",
       "    <tr style=\"text-align: right;\">\n",
       "      <th></th>\n",
       "      <th>destination</th>\n",
       "      <th>passanger</th>\n",
       "      <th>weather</th>\n",
       "      <th>temperature</th>\n",
       "      <th>time</th>\n",
       "      <th>coupon</th>\n",
       "      <th>expiration</th>\n",
       "      <th>gender</th>\n",
       "      <th>age</th>\n",
       "      <th>maritalStatus</th>\n",
       "      <th>...</th>\n",
       "      <th>CoffeeHouse</th>\n",
       "      <th>CarryAway</th>\n",
       "      <th>RestaurantLessThan20</th>\n",
       "      <th>Restaurant20To50</th>\n",
       "      <th>toCoupon_GEQ5min</th>\n",
       "      <th>toCoupon_GEQ15min</th>\n",
       "      <th>toCoupon_GEQ25min</th>\n",
       "      <th>direction_same</th>\n",
       "      <th>direction_opp</th>\n",
       "      <th>Y</th>\n",
       "    </tr>\n",
       "  </thead>\n",
       "  <tbody>\n",
       "    <tr>\n",
       "      <th>0</th>\n",
       "      <td>No    Urgent    Place</td>\n",
       "      <td>Alone</td>\n",
       "      <td>Sunny</td>\n",
       "      <td>55</td>\n",
       "      <td>2PM</td>\n",
       "      <td>Restaurant(&lt;20)</td>\n",
       "      <td>1d</td>\n",
       "      <td>Male</td>\n",
       "      <td>21</td>\n",
       "      <td>Single</td>\n",
       "      <td>...</td>\n",
       "      <td>less1</td>\n",
       "      <td>4~8</td>\n",
       "      <td>4~8</td>\n",
       "      <td>less1</td>\n",
       "      <td>1</td>\n",
       "      <td>0</td>\n",
       "      <td>0</td>\n",
       "      <td>0</td>\n",
       "      <td>1</td>\n",
       "      <td>1</td>\n",
       "    </tr>\n",
       "    <tr>\n",
       "      <th>1</th>\n",
       "      <td>No    Urgent    Place</td>\n",
       "      <td>Friend(s)</td>\n",
       "      <td>Sunny</td>\n",
       "      <td>80</td>\n",
       "      <td>10AM</td>\n",
       "      <td>Coffee    House</td>\n",
       "      <td>2h</td>\n",
       "      <td>Male</td>\n",
       "      <td>21</td>\n",
       "      <td>Single</td>\n",
       "      <td>...</td>\n",
       "      <td>less1</td>\n",
       "      <td>4~8</td>\n",
       "      <td>4~8</td>\n",
       "      <td>less1</td>\n",
       "      <td>1</td>\n",
       "      <td>0</td>\n",
       "      <td>0</td>\n",
       "      <td>0</td>\n",
       "      <td>1</td>\n",
       "      <td>0</td>\n",
       "    </tr>\n",
       "    <tr>\n",
       "      <th>2</th>\n",
       "      <td>No    Urgent    Place</td>\n",
       "      <td>Friend(s)</td>\n",
       "      <td>Sunny</td>\n",
       "      <td>80</td>\n",
       "      <td>10AM</td>\n",
       "      <td>Bar</td>\n",
       "      <td>1d</td>\n",
       "      <td>Male</td>\n",
       "      <td>21</td>\n",
       "      <td>Single</td>\n",
       "      <td>...</td>\n",
       "      <td>less1</td>\n",
       "      <td>4~8</td>\n",
       "      <td>4~8</td>\n",
       "      <td>less1</td>\n",
       "      <td>1</td>\n",
       "      <td>0</td>\n",
       "      <td>0</td>\n",
       "      <td>0</td>\n",
       "      <td>1</td>\n",
       "      <td>1</td>\n",
       "    </tr>\n",
       "    <tr>\n",
       "      <th>3</th>\n",
       "      <td>No    Urgent    Place</td>\n",
       "      <td>Friend(s)</td>\n",
       "      <td>Sunny</td>\n",
       "      <td>80</td>\n",
       "      <td>10AM</td>\n",
       "      <td>Carry    out    &amp;    Take    away</td>\n",
       "      <td>2h</td>\n",
       "      <td>Male</td>\n",
       "      <td>21</td>\n",
       "      <td>Single</td>\n",
       "      <td>...</td>\n",
       "      <td>less1</td>\n",
       "      <td>4~8</td>\n",
       "      <td>4~8</td>\n",
       "      <td>less1</td>\n",
       "      <td>1</td>\n",
       "      <td>1</td>\n",
       "      <td>0</td>\n",
       "      <td>0</td>\n",
       "      <td>1</td>\n",
       "      <td>0</td>\n",
       "    </tr>\n",
       "    <tr>\n",
       "      <th>4</th>\n",
       "      <td>No    Urgent    Place</td>\n",
       "      <td>Friend(s)</td>\n",
       "      <td>Sunny</td>\n",
       "      <td>80</td>\n",
       "      <td>2PM</td>\n",
       "      <td>Coffee    House</td>\n",
       "      <td>1d</td>\n",
       "      <td>Male</td>\n",
       "      <td>21</td>\n",
       "      <td>Single</td>\n",
       "      <td>...</td>\n",
       "      <td>less1</td>\n",
       "      <td>4~8</td>\n",
       "      <td>4~8</td>\n",
       "      <td>less1</td>\n",
       "      <td>1</td>\n",
       "      <td>0</td>\n",
       "      <td>0</td>\n",
       "      <td>0</td>\n",
       "      <td>1</td>\n",
       "      <td>0</td>\n",
       "    </tr>\n",
       "  </tbody>\n",
       "</table>\n",
       "<p>5 rows × 25 columns</p>\n",
       "</div>"
      ],
      "text/plain": [
       "                destination  passanger weather  temperature  time  \\\n",
       "0     No    Urgent    Place      Alone   Sunny           55   2PM   \n",
       "1     No    Urgent    Place  Friend(s)   Sunny           80  10AM   \n",
       "2     No    Urgent    Place  Friend(s)   Sunny           80  10AM   \n",
       "3     No    Urgent    Place  Friend(s)   Sunny           80  10AM   \n",
       "4     No    Urgent    Place  Friend(s)   Sunny           80   2PM   \n",
       "\n",
       "                              coupon expiration gender age maritalStatus  ...  \\\n",
       "0                    Restaurant(<20)         1d   Male  21        Single  ...   \n",
       "1                    Coffee    House         2h   Male  21        Single  ...   \n",
       "2                                Bar         1d   Male  21        Single  ...   \n",
       "3  Carry    out    &    Take    away         2h   Male  21        Single  ...   \n",
       "4                    Coffee    House         1d   Male  21        Single  ...   \n",
       "\n",
       "   CoffeeHouse CarryAway RestaurantLessThan20 Restaurant20To50  \\\n",
       "0        less1       4~8                  4~8            less1   \n",
       "1        less1       4~8                  4~8            less1   \n",
       "2        less1       4~8                  4~8            less1   \n",
       "3        less1       4~8                  4~8            less1   \n",
       "4        less1       4~8                  4~8            less1   \n",
       "\n",
       "  toCoupon_GEQ5min toCoupon_GEQ15min toCoupon_GEQ25min direction_same  \\\n",
       "0                1                 0                 0              0   \n",
       "1                1                 0                 0              0   \n",
       "2                1                 0                 0              0   \n",
       "3                1                 1                 0              0   \n",
       "4                1                 0                 0              0   \n",
       "\n",
       "  direction_opp  Y  \n",
       "0             1  1  \n",
       "1             1  0  \n",
       "2             1  1  \n",
       "3             1  0  \n",
       "4             1  0  \n",
       "\n",
       "[5 rows x 25 columns]"
      ]
     },
     "execution_count": 2,
     "metadata": {},
     "output_type": "execute_result"
    }
   ],
   "source": [
    "filedata= 'clean_data.csv'\n",
    "df = pd.read_csv(filedata)\n",
    "df.head()"
   ]
  },
  {
   "cell_type": "markdown",
   "id": "05011b09",
   "metadata": {},
   "source": [
    "# Chuẩn hóa dữ liệu"
   ]
  },
  {
   "cell_type": "code",
   "execution_count": 3,
   "id": "2fe9af0c",
   "metadata": {},
   "outputs": [],
   "source": [
    "from sklearn.preprocessing import LabelEncoder\n",
    "encoder= LabelEncoder()"
   ]
  },
  {
   "cell_type": "code",
   "execution_count": 4,
   "id": "136b66f9",
   "metadata": {},
   "outputs": [],
   "source": [
    "df.destination=encoder.fit_transform(df.destination)\n",
    "df.passanger=encoder.fit_transform(df.passanger)\n",
    "df.weather=encoder.fit_transform(df.weather)\n",
    "df.time=encoder.fit_transform(df.time)\n",
    "df.coupon=encoder.fit_transform(df.coupon)\n",
    "df.age=encoder.fit_transform(df.age)\n",
    "df.expiration=encoder.fit_transform(df.expiration)\n",
    "df.gender=encoder.fit_transform(df.gender)\n",
    "df.maritalStatus=encoder.fit_transform(df.maritalStatus)\n",
    "df.education=encoder.fit_transform(df.education)\n",
    "df.occupation=encoder.fit_transform(df.occupation)\n",
    "df.income=encoder.fit_transform(df.income)\n",
    "df.Bar=encoder.fit_transform(df.Bar)\n",
    "df.CoffeeHouse=encoder.fit_transform(df.CoffeeHouse)\n",
    "df.CarryAway=encoder.fit_transform(df.CarryAway)\n",
    "df.RestaurantLessThan20=encoder.fit_transform(df.RestaurantLessThan20)\n",
    "df.Restaurant20To50=encoder.fit_transform(df.Restaurant20To50)"
   ]
  },
  {
   "cell_type": "code",
   "execution_count": 5,
   "id": "a962f4a2",
   "metadata": {},
   "outputs": [
    {
     "data": {
      "text/html": [
       "<div>\n",
       "<style scoped>\n",
       "    .dataframe tbody tr th:only-of-type {\n",
       "        vertical-align: middle;\n",
       "    }\n",
       "\n",
       "    .dataframe tbody tr th {\n",
       "        vertical-align: top;\n",
       "    }\n",
       "\n",
       "    .dataframe thead th {\n",
       "        text-align: right;\n",
       "    }\n",
       "</style>\n",
       "<table border=\"1\" class=\"dataframe\">\n",
       "  <thead>\n",
       "    <tr style=\"text-align: right;\">\n",
       "      <th></th>\n",
       "      <th>destination</th>\n",
       "      <th>passanger</th>\n",
       "      <th>weather</th>\n",
       "      <th>temperature</th>\n",
       "      <th>time</th>\n",
       "      <th>coupon</th>\n",
       "      <th>expiration</th>\n",
       "      <th>gender</th>\n",
       "      <th>age</th>\n",
       "      <th>maritalStatus</th>\n",
       "      <th>...</th>\n",
       "      <th>CoffeeHouse</th>\n",
       "      <th>CarryAway</th>\n",
       "      <th>RestaurantLessThan20</th>\n",
       "      <th>Restaurant20To50</th>\n",
       "      <th>toCoupon_GEQ5min</th>\n",
       "      <th>toCoupon_GEQ15min</th>\n",
       "      <th>toCoupon_GEQ25min</th>\n",
       "      <th>direction_same</th>\n",
       "      <th>direction_opp</th>\n",
       "      <th>Y</th>\n",
       "    </tr>\n",
       "  </thead>\n",
       "  <tbody>\n",
       "    <tr>\n",
       "      <th>0</th>\n",
       "      <td>1</td>\n",
       "      <td>0</td>\n",
       "      <td>2</td>\n",
       "      <td>55</td>\n",
       "      <td>2</td>\n",
       "      <td>4</td>\n",
       "      <td>0</td>\n",
       "      <td>1</td>\n",
       "      <td>0</td>\n",
       "      <td>2</td>\n",
       "      <td>...</td>\n",
       "      <td>3</td>\n",
       "      <td>1</td>\n",
       "      <td>1</td>\n",
       "      <td>3</td>\n",
       "      <td>1</td>\n",
       "      <td>0</td>\n",
       "      <td>0</td>\n",
       "      <td>0</td>\n",
       "      <td>1</td>\n",
       "      <td>1</td>\n",
       "    </tr>\n",
       "    <tr>\n",
       "      <th>1</th>\n",
       "      <td>1</td>\n",
       "      <td>1</td>\n",
       "      <td>2</td>\n",
       "      <td>80</td>\n",
       "      <td>0</td>\n",
       "      <td>2</td>\n",
       "      <td>1</td>\n",
       "      <td>1</td>\n",
       "      <td>0</td>\n",
       "      <td>2</td>\n",
       "      <td>...</td>\n",
       "      <td>3</td>\n",
       "      <td>1</td>\n",
       "      <td>1</td>\n",
       "      <td>3</td>\n",
       "      <td>1</td>\n",
       "      <td>0</td>\n",
       "      <td>0</td>\n",
       "      <td>0</td>\n",
       "      <td>1</td>\n",
       "      <td>0</td>\n",
       "    </tr>\n",
       "    <tr>\n",
       "      <th>2</th>\n",
       "      <td>1</td>\n",
       "      <td>1</td>\n",
       "      <td>2</td>\n",
       "      <td>80</td>\n",
       "      <td>0</td>\n",
       "      <td>0</td>\n",
       "      <td>0</td>\n",
       "      <td>1</td>\n",
       "      <td>0</td>\n",
       "      <td>2</td>\n",
       "      <td>...</td>\n",
       "      <td>3</td>\n",
       "      <td>1</td>\n",
       "      <td>1</td>\n",
       "      <td>3</td>\n",
       "      <td>1</td>\n",
       "      <td>0</td>\n",
       "      <td>0</td>\n",
       "      <td>0</td>\n",
       "      <td>1</td>\n",
       "      <td>1</td>\n",
       "    </tr>\n",
       "    <tr>\n",
       "      <th>3</th>\n",
       "      <td>1</td>\n",
       "      <td>1</td>\n",
       "      <td>2</td>\n",
       "      <td>80</td>\n",
       "      <td>0</td>\n",
       "      <td>1</td>\n",
       "      <td>1</td>\n",
       "      <td>1</td>\n",
       "      <td>0</td>\n",
       "      <td>2</td>\n",
       "      <td>...</td>\n",
       "      <td>3</td>\n",
       "      <td>1</td>\n",
       "      <td>1</td>\n",
       "      <td>3</td>\n",
       "      <td>1</td>\n",
       "      <td>1</td>\n",
       "      <td>0</td>\n",
       "      <td>0</td>\n",
       "      <td>1</td>\n",
       "      <td>0</td>\n",
       "    </tr>\n",
       "    <tr>\n",
       "      <th>4</th>\n",
       "      <td>1</td>\n",
       "      <td>1</td>\n",
       "      <td>2</td>\n",
       "      <td>80</td>\n",
       "      <td>2</td>\n",
       "      <td>2</td>\n",
       "      <td>0</td>\n",
       "      <td>1</td>\n",
       "      <td>0</td>\n",
       "      <td>2</td>\n",
       "      <td>...</td>\n",
       "      <td>3</td>\n",
       "      <td>1</td>\n",
       "      <td>1</td>\n",
       "      <td>3</td>\n",
       "      <td>1</td>\n",
       "      <td>0</td>\n",
       "      <td>0</td>\n",
       "      <td>0</td>\n",
       "      <td>1</td>\n",
       "      <td>0</td>\n",
       "    </tr>\n",
       "  </tbody>\n",
       "</table>\n",
       "<p>5 rows × 25 columns</p>\n",
       "</div>"
      ],
      "text/plain": [
       "   destination  passanger  weather  temperature  time  coupon  expiration  \\\n",
       "0            1          0        2           55     2       4           0   \n",
       "1            1          1        2           80     0       2           1   \n",
       "2            1          1        2           80     0       0           0   \n",
       "3            1          1        2           80     0       1           1   \n",
       "4            1          1        2           80     2       2           0   \n",
       "\n",
       "   gender  age  maritalStatus  ...  CoffeeHouse  CarryAway  \\\n",
       "0       1    0              2  ...            3          1   \n",
       "1       1    0              2  ...            3          1   \n",
       "2       1    0              2  ...            3          1   \n",
       "3       1    0              2  ...            3          1   \n",
       "4       1    0              2  ...            3          1   \n",
       "\n",
       "   RestaurantLessThan20  Restaurant20To50  toCoupon_GEQ5min  \\\n",
       "0                     1                 3                 1   \n",
       "1                     1                 3                 1   \n",
       "2                     1                 3                 1   \n",
       "3                     1                 3                 1   \n",
       "4                     1                 3                 1   \n",
       "\n",
       "   toCoupon_GEQ15min  toCoupon_GEQ25min  direction_same  direction_opp  Y  \n",
       "0                  0                  0               0              1  1  \n",
       "1                  0                  0               0              1  0  \n",
       "2                  0                  0               0              1  1  \n",
       "3                  1                  0               0              1  0  \n",
       "4                  0                  0               0              1  0  \n",
       "\n",
       "[5 rows x 25 columns]"
      ]
     },
     "execution_count": 5,
     "metadata": {},
     "output_type": "execute_result"
    }
   ],
   "source": [
    "df.head()"
   ]
  },
  {
   "cell_type": "markdown",
   "id": "cb2a41af",
   "metadata": {},
   "source": [
    "# Tách tập train và test"
   ]
  },
  {
   "cell_type": "code",
   "execution_count": 6,
   "id": "ed6d4678",
   "metadata": {},
   "outputs": [],
   "source": [
    "data = np.array(df.values)\n",
    "X=data[:,:-1]\n",
    "X = np.asarray(X.astype(np.float32))\n",
    "y = data[:,-1]"
   ]
  },
  {
   "cell_type": "code",
   "execution_count": 7,
   "id": "6907bd77",
   "metadata": {},
   "outputs": [],
   "source": [
    "from sklearn.model_selection import train_test_split\n",
    "X_train, X_test, y_train, y_test = train_test_split(X, y, test_size=0.2,random_state = 42)"
   ]
  },
  {
   "cell_type": "code",
   "execution_count": 8,
   "id": "e350299d",
   "metadata": {},
   "outputs": [],
   "source": [
    "def getCM(y_test,y_pred):\n",
    "    TP=0\n",
    "    TN=0\n",
    "    FP=0\n",
    "    FN=0\n",
    "    for i in range(len(y_test-1)):\n",
    "        if y_pred[i]==1 and y_test[i]==1:\n",
    "            TP=TP+1\n",
    "        elif y_pred[i]==0 and y_test[i]==0:\n",
    "            TN=TN+1\n",
    "        elif y_pred[i]==1 and y_test[i]==0:\n",
    "            FP=FP+1\n",
    "        elif y_pred[i]==0 and y_test[i]==1:\n",
    "            FN=FN+1\n",
    "    return TP,TN,FP,FN"
   ]
  },
  {
   "cell_type": "code",
   "execution_count": 9,
   "id": "aee704fd",
   "metadata": {},
   "outputs": [],
   "source": [
    "def confusion_matrix_func(TP,TN,FP,FN):\n",
    "    confusion_matrix={' ':['Predicted as Positive','Predicted as Negative'],\n",
    "                     'Actual: Positive':[TP,FN],\n",
    "                     'Actual: Negative':[FP,TN]}\n",
    "    df_matrix = pd.DataFrame(confusion_matrix)\n",
    "    return df_matrix"
   ]
  },
  {
   "cell_type": "markdown",
   "id": "78365b30",
   "metadata": {},
   "source": [
    "# Giải thuật Decision Tree "
   ]
  },
  {
   "cell_type": "code",
   "execution_count": 10,
   "id": "dc429b49",
   "metadata": {},
   "outputs": [],
   "source": [
    "from sklearn import tree\n",
    "dt_clf = tree.DecisionTreeClassifier()\n",
    "dt_clf.fit(X_train,y_train)\n",
    "y_pred_dt = dt_clf.predict(X_test)\n",
    "TP_dt,TN_dt,FP_dt,FN_dt=getCM(y_test,y_pred_dt)"
   ]
  },
  {
   "cell_type": "code",
   "execution_count": 11,
   "id": "3349d815",
   "metadata": {},
   "outputs": [
    {
     "name": "stdout",
     "output_type": "stream",
     "text": [
      "                          Actual: Positive  Actual: Negative\n",
      "0  Predicted as Positive              1464               835\n",
      "1  Predicted as Negative               933              1184\n"
     ]
    }
   ],
   "source": [
    "df_matrix_dt =confusion_matrix_func(TP_dt,TN_dt,FP_dt,FN_dt)\n",
    "print(df_matrix_dt)"
   ]
  },
  {
   "cell_type": "markdown",
   "id": "4580c0c1",
   "metadata": {},
   "source": [
    "# Giải thuật Random Forest"
   ]
  },
  {
   "cell_type": "code",
   "execution_count": 12,
   "id": "69226b61",
   "metadata": {},
   "outputs": [],
   "source": [
    "from sklearn import ensemble\n",
    "rf_clf = ensemble.RandomForestClassifier()\n",
    "rf_clf.fit(X_train,y_train)\n",
    "y_pred_rf = rf_clf.predict(X_test)\n",
    "TP_rf,TN_rf,FP_rf,FN_rf=getCM(y_test,y_pred_rf)"
   ]
  },
  {
   "cell_type": "code",
   "execution_count": 13,
   "id": "416fed63",
   "metadata": {},
   "outputs": [
    {
     "name": "stdout",
     "output_type": "stream",
     "text": [
      "                          Actual: Positive  Actual: Negative\n",
      "0  Predicted as Positive              1577               814\n",
      "1  Predicted as Negative               820              1205\n"
     ]
    }
   ],
   "source": [
    "df_matrix_rf =confusion_matrix_func(TP_rf,TN_rf,FP_rf,FN_rf)\n",
    "print(df_matrix_rf)"
   ]
  },
  {
   "cell_type": "markdown",
   "id": "b3e0ea85",
   "metadata": {},
   "source": [
    "# Giải thuật Naive Bayes"
   ]
  },
  {
   "cell_type": "code",
   "execution_count": 14,
   "id": "b45426dd",
   "metadata": {},
   "outputs": [],
   "source": [
    "from sklearn import naive_bayes\n",
    "nb_clf = naive_bayes.GaussianNB()\n",
    "nb_clf.fit(X_train,y_train)\n",
    "y_pred_nb = nb_clf.predict(X_test)\n",
    "TP_nb,TN_nb,FP_nb,FN_nb=getCM(y_test,y_pred_nb)"
   ]
  },
  {
   "cell_type": "code",
   "execution_count": 15,
   "id": "f75cb895",
   "metadata": {},
   "outputs": [
    {
     "name": "stdout",
     "output_type": "stream",
     "text": [
      "                          Actual: Positive  Actual: Negative\n",
      "0  Predicted as Positive              1502              1054\n",
      "1  Predicted as Negative               895               965\n"
     ]
    }
   ],
   "source": [
    "df_matrix_nb =confusion_matrix_func(TP_nb,TN_nb,FP_nb,FN_nb)\n",
    "print(df_matrix_nb)"
   ]
  },
  {
   "cell_type": "markdown",
   "id": "64162e76",
   "metadata": {},
   "source": [
    "# Giải thuật Logistic Regression"
   ]
  },
  {
   "cell_type": "code",
   "execution_count": 16,
   "id": "e58436a2",
   "metadata": {},
   "outputs": [],
   "source": [
    "from sklearn import linear_model\n",
    "lr_clf = linear_model.LogisticRegression(solver='lbfgs', max_iter=500)\n",
    "lr_clf.fit(X_train,y_train)\n",
    "y_pred_lr = lr_clf.predict(X_test)\n",
    "TP_lr,TN_lr,FP_lr,FN_lr=getCM(y_test,y_pred_lr)"
   ]
  },
  {
   "cell_type": "code",
   "execution_count": 17,
   "id": "0193f760",
   "metadata": {},
   "outputs": [
    {
     "name": "stdout",
     "output_type": "stream",
     "text": [
      "                          Actual: Positive  Actual: Negative\n",
      "0  Predicted as Positive              1642              1145\n",
      "1  Predicted as Negative               755               874\n"
     ]
    }
   ],
   "source": [
    "df_matrix_lr =confusion_matrix_func(TP_lr,TN_lr,FP_lr,FN_lr)\n",
    "print(df_matrix_lr)"
   ]
  },
  {
   "cell_type": "markdown",
   "id": "816c035a",
   "metadata": {},
   "source": [
    "# Đánh giá"
   ]
  },
  {
   "cell_type": "code",
   "execution_count": 18,
   "id": "0730c801",
   "metadata": {},
   "outputs": [],
   "source": [
    "def all_score(TP,TN,FP,FN):\n",
    "    precision=TP/(TP+FP)\n",
    "    recall=TP/(TP+FN)\n",
    "    f1=2*(precision*recall)/((precision+recall))\n",
    "    accuracy=(TP+TN)/(FP+FN+TP+TN)\n",
    "    return precision,recall,f1,accuracy"
   ]
  },
  {
   "cell_type": "code",
   "execution_count": 19,
   "id": "3b68c5a1",
   "metadata": {},
   "outputs": [],
   "source": [
    "precision_dt,recall_dt,f1_dt,accuracy_dt=all_score(TP_dt,TN_dt,FP_dt,FN_dt)\n",
    "precision_rf,recall_rf,f1_rf,accuracy_rf=all_score(TP_rf,TN_rf,FP_rf,FN_rf)\n",
    "precision_nb,recall_nb,f1_nb,accuracy_nb=all_score(TP_nb,TN_nb,FP_nb,FN_nb)\n",
    "precision_lr,recall_lr,f1_lr,accuracy_lr=all_score(TP_lr,TN_lr,FP_lr,FN_lr)"
   ]
  },
  {
   "cell_type": "code",
   "execution_count": 20,
   "id": "bb368613",
   "metadata": {},
   "outputs": [
    {
     "data": {
      "text/plain": [
       "<matplotlib.legend.Legend at 0x1d5cb2b5460>"
      ]
     },
     "execution_count": 20,
     "metadata": {},
     "output_type": "execute_result"
    },
    {
     "data": {
      "image/png": "[encoded data removed]",
      "text/plain": [
       "<Figure size 792x432 with 1 Axes>"
      ]
     },
     "metadata": {
      "needs_background": "light"
     },
     "output_type": "display_data"
    }
   ],
   "source": [
    "import matplotlib as mpl\n",
    "import matplotlib.pyplot as plt\n",
    "%matplotlib inline\n",
    "data={'Name': ['DT', 'RF', 'NB', 'LR'], 'Precision': [precision_dt,precision_rf,precision_nb,precision_lr],\n",
    "     'Recall': [recall_dt,recall_rf,recall_nb,recall_lr],\n",
    "     'F1_score': [f1_dt,f1_rf,f1_nb,f1_lr],\n",
    "     'Accuracy': [accuracy_dt,accuracy_rf,accuracy_nb,accuracy_lr]}\n",
    "\n",
    "df_score = pd.DataFrame(data)\n",
    "df_score.plot(kind='bar', figsize=(11,6), align='center', colormap=\"Accent\")\n",
    "plt.xticks(np.arange(4), df_score.Name)\n",
    "plt.ylabel('Score')\n",
    "plt.title('CÁC GIẢI THUẬT')\n",
    "plt.legend(bbox_to_anchor=(1.05, 1), loc=2, borderaxespad=0.)"
   ]
  },
  {
   "cell_type": "code",
   "execution_count": 21,
   "id": "7a1371b9",
   "metadata": {},
   "outputs": [
    {
     "data": {
      "text/html": [
       "<div>\n",
       "<style scoped>\n",
       "    .dataframe tbody tr th:only-of-type {\n",
       "        vertical-align: middle;\n",
       "    }\n",
       "\n",
       "    .dataframe tbody tr th {\n",
       "        vertical-align: top;\n",
       "    }\n",
       "\n",
       "    .dataframe thead th {\n",
       "        text-align: right;\n",
       "    }\n",
       "</style>\n",
       "<table border=\"1\" class=\"dataframe\">\n",
       "  <thead>\n",
       "    <tr style=\"text-align: right;\">\n",
       "      <th></th>\n",
       "      <th>Name</th>\n",
       "      <th>Precision</th>\n",
       "      <th>Recall</th>\n",
       "      <th>F1_score</th>\n",
       "      <th>Accuracy</th>\n",
       "    </tr>\n",
       "  </thead>\n",
       "  <tbody>\n",
       "    <tr>\n",
       "      <th>0</th>\n",
       "      <td>DT</td>\n",
       "      <td>0.636799</td>\n",
       "      <td>0.610763</td>\n",
       "      <td>0.623509</td>\n",
       "      <td>0.599638</td>\n",
       "    </tr>\n",
       "    <tr>\n",
       "      <th>1</th>\n",
       "      <td>RF</td>\n",
       "      <td>0.659557</td>\n",
       "      <td>0.657906</td>\n",
       "      <td>0.658730</td>\n",
       "      <td>0.629982</td>\n",
       "    </tr>\n",
       "    <tr>\n",
       "      <th>2</th>\n",
       "      <td>NB</td>\n",
       "      <td>0.587637</td>\n",
       "      <td>0.626617</td>\n",
       "      <td>0.606501</td>\n",
       "      <td>0.558650</td>\n",
       "    </tr>\n",
       "    <tr>\n",
       "      <th>3</th>\n",
       "      <td>LR</td>\n",
       "      <td>0.589164</td>\n",
       "      <td>0.685023</td>\n",
       "      <td>0.633488</td>\n",
       "      <td>0.569746</td>\n",
       "    </tr>\n",
       "  </tbody>\n",
       "</table>\n",
       "</div>"
      ],
      "text/plain": [
       "  Name  Precision    Recall  F1_score  Accuracy\n",
       "0   DT   0.636799  0.610763  0.623509  0.599638\n",
       "1   RF   0.659557  0.657906  0.658730  0.629982\n",
       "2   NB   0.587637  0.626617  0.606501  0.558650\n",
       "3   LR   0.589164  0.685023  0.633488  0.569746"
      ]
     },
     "execution_count": 21,
     "metadata": {},
     "output_type": "execute_result"
    }
   ],
   "source": [
    "df_score"
   ]
  },
  {
   "cell_type": "code",
   "execution_count": null,
   "id": "471416e2",
   "metadata": {},
   "outputs": [],
   "source": []
  }
 ],
 "metadata": {
  "kernelspec": {
   "display_name": "Python 3 (ipykernel)",
   "language": "python",
   "name": "python3"
  },
  "language_info": {
   "codemirror_mode": {
    "name": "ipython",
    "version": 3
   },
   "file_extension": ".py",
   "mimetype": "text/x-python",
   "name": "python",
   "nbconvert_exporter": "python",
   "pygments_lexer": "ipython3",
   "version": "3.9.8"
  }
 },
 "nbformat": 4,
 "nbformat_minor": 5
}
